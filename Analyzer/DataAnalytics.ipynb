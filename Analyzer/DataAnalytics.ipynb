{
 "metadata": {
  "language_info": {
   "codemirror_mode": {
    "name": "ipython",
    "version": 3
   },
   "file_extension": ".py",
   "mimetype": "text/x-python",
   "name": "python",
   "nbconvert_exporter": "python",
   "pygments_lexer": "ipython3",
   "version": 3
  },
  "orig_nbformat": 2,
  "kernelspec": {
   "name": "python_defaultSpec_1595255197879",
   "display_name": "Python 3.7.2 32-bit"
  }
 },
 "nbformat": 4,
 "nbformat_minor": 2,
 "cells": [
  {
   "cell_type": "code",
   "execution_count": 3,
   "metadata": {},
   "outputs": [],
   "source": [
    "import pandas as pd "
   ]
  },
  {
   "cell_type": "code",
   "execution_count": 4,
   "metadata": {},
   "outputs": [],
   "source": [
    "data=pd.read_csv(r\"C:\\Users\\Deepak\\Documents\\GitHub\\PythonDataAnalyticsCorona\\CollectedData\\TNCoronaCount.csv\")"
   ]
  },
  {
   "cell_type": "code",
   "execution_count": 5,
   "metadata": {},
   "outputs": [
    {
     "output_type": "execute_result",
     "data": {
      "text/plain": "           District DiagonisedCases Deaths RecoveredCases ActiveCases  \\\n0          Ariyalur             542      1            468          73   \n1      Chengalpattu           8,553    169          5,695       2,689   \n2           Chennai          79,662  1,295         62,552      15,815   \n3        Coimbatore           1,480     10            338       1,132   \n4         Cuddalore           1,565      6          1,154         405   \n5        Dharmapuri             260      1            103         156   \n6          Dindigul             946     12            645         289   \n7             Erode             451      7            196         248   \n8      Kallakurichi           1,904      6          1,075         823   \n9      Kancheepuram           4,091     53          1,499       2,539   \n10      Kanyakumari           1,613     10            553       1,050   \n11            Karur             207      5            145          57   \n12      Krishnagiri             274      7            165         102   \n13          Madurai           6,990    124          2,667       4,199   \n14     Nagapattinam             383      1            183         199   \n15         Namakkal             203      1             96         106   \n16         Nilgiris             258      1            107         150   \n17       Perambalur             178      1            161          16   \n18      Pudukkottai             729      9            414         306   \n19   Ramanathapuram           1,956     38          1,193         725   \n20          Ranipet           1,645     13            796         836   \n21            Salem           2,026      9          1,024         993   \n22       Sivagangai           1,003     18            551         434   \n23          Tenkasi             824      3            325         496   \n24        Thanjavur             738     11            422       1,212   \n25            Theni           1,916     20            684       1,212   \n26      Tirunelveli           1,935     11            935         989   \n27       Tirupattur             461      1            272         188   \n28         Tiruppur             319      4            185         130   \n29       Tiruvallur           7,292    133          4,014       3,145   \n30   Tiruvannamalai           3,224     24          1,848       1,352   \n31        Tiruvarur             786      1            478         307   \n32  Tiruchirappalli           1,715     27            964         724   \n33      Thoothukudi           2,497     17          1,121       1,359   \n34          Vellore           3,098     10          1,344       1,744   \n35      Villuppuram           1,723     20          1,034         669   \n\n   Population CasesPerMillion  \n0     754,894             718  \n1   2,556,244           3,346  \n2   4,646,732          17,144  \n3   3,458,045             428  \n4   2,605,914             601  \n5   1,506,843             173  \n6   2,159,775             438  \n7   2,251,744             200  \n8   1,370,281           1,389  \n9   1,166,401           3,507  \n10  1,870,374             862  \n11  1,064,493             194  \n12  1,883,731             145  \n13  3,038,252           2,301  \n14  1,616,450             237  \n15  1,726,601             118  \n16    735,394             351  \n17    565,223             315  \n18  1,618,345             450  \n19  1,353,445           1,445  \n20  1,210,277           1,359  \n21  3,482,056             582  \n22  1,339,101             749  \n23  1,407,627             585  \n24  2,405,890             307  \n25  1,245,899           1,538  \n26  1,665,253           1,162  \n27  1,111,812             415  \n28  2,479,052             129  \n29  3,728,104           1,956  \n30  2,494,875           1,292  \n31  1,264,277             622  \n32  2,722,290             630  \n33  1,750,176           1,427  \n34  1,614,242           1,919  \n35  2,093,003             823  ",
      "text/html": "<div>\n<style scoped>\n    .dataframe tbody tr th:only-of-type {\n        vertical-align: middle;\n    }\n\n    .dataframe tbody tr th {\n        vertical-align: top;\n    }\n\n    .dataframe thead th {\n        text-align: right;\n    }\n</style>\n<table border=\"1\" class=\"dataframe\">\n  <thead>\n    <tr style=\"text-align: right;\">\n      <th></th>\n      <th>District</th>\n      <th>DiagonisedCases</th>\n      <th>Deaths</th>\n      <th>RecoveredCases</th>\n      <th>ActiveCases</th>\n      <th>Population</th>\n      <th>CasesPerMillion</th>\n    </tr>\n  </thead>\n  <tbody>\n    <tr>\n      <th>0</th>\n      <td>Ariyalur</td>\n      <td>542</td>\n      <td>1</td>\n      <td>468</td>\n      <td>73</td>\n      <td>754,894</td>\n      <td>718</td>\n    </tr>\n    <tr>\n      <th>1</th>\n      <td>Chengalpattu</td>\n      <td>8,553</td>\n      <td>169</td>\n      <td>5,695</td>\n      <td>2,689</td>\n      <td>2,556,244</td>\n      <td>3,346</td>\n    </tr>\n    <tr>\n      <th>2</th>\n      <td>Chennai</td>\n      <td>79,662</td>\n      <td>1,295</td>\n      <td>62,552</td>\n      <td>15,815</td>\n      <td>4,646,732</td>\n      <td>17,144</td>\n    </tr>\n    <tr>\n      <th>3</th>\n      <td>Coimbatore</td>\n      <td>1,480</td>\n      <td>10</td>\n      <td>338</td>\n      <td>1,132</td>\n      <td>3,458,045</td>\n      <td>428</td>\n    </tr>\n    <tr>\n      <th>4</th>\n      <td>Cuddalore</td>\n      <td>1,565</td>\n      <td>6</td>\n      <td>1,154</td>\n      <td>405</td>\n      <td>2,605,914</td>\n      <td>601</td>\n    </tr>\n    <tr>\n      <th>5</th>\n      <td>Dharmapuri</td>\n      <td>260</td>\n      <td>1</td>\n      <td>103</td>\n      <td>156</td>\n      <td>1,506,843</td>\n      <td>173</td>\n    </tr>\n    <tr>\n      <th>6</th>\n      <td>Dindigul</td>\n      <td>946</td>\n      <td>12</td>\n      <td>645</td>\n      <td>289</td>\n      <td>2,159,775</td>\n      <td>438</td>\n    </tr>\n    <tr>\n      <th>7</th>\n      <td>Erode</td>\n      <td>451</td>\n      <td>7</td>\n      <td>196</td>\n      <td>248</td>\n      <td>2,251,744</td>\n      <td>200</td>\n    </tr>\n    <tr>\n      <th>8</th>\n      <td>Kallakurichi</td>\n      <td>1,904</td>\n      <td>6</td>\n      <td>1,075</td>\n      <td>823</td>\n      <td>1,370,281</td>\n      <td>1,389</td>\n    </tr>\n    <tr>\n      <th>9</th>\n      <td>Kancheepuram</td>\n      <td>4,091</td>\n      <td>53</td>\n      <td>1,499</td>\n      <td>2,539</td>\n      <td>1,166,401</td>\n      <td>3,507</td>\n    </tr>\n    <tr>\n      <th>10</th>\n      <td>Kanyakumari</td>\n      <td>1,613</td>\n      <td>10</td>\n      <td>553</td>\n      <td>1,050</td>\n      <td>1,870,374</td>\n      <td>862</td>\n    </tr>\n    <tr>\n      <th>11</th>\n      <td>Karur</td>\n      <td>207</td>\n      <td>5</td>\n      <td>145</td>\n      <td>57</td>\n      <td>1,064,493</td>\n      <td>194</td>\n    </tr>\n    <tr>\n      <th>12</th>\n      <td>Krishnagiri</td>\n      <td>274</td>\n      <td>7</td>\n      <td>165</td>\n      <td>102</td>\n      <td>1,883,731</td>\n      <td>145</td>\n    </tr>\n    <tr>\n      <th>13</th>\n      <td>Madurai</td>\n      <td>6,990</td>\n      <td>124</td>\n      <td>2,667</td>\n      <td>4,199</td>\n      <td>3,038,252</td>\n      <td>2,301</td>\n    </tr>\n    <tr>\n      <th>14</th>\n      <td>Nagapattinam</td>\n      <td>383</td>\n      <td>1</td>\n      <td>183</td>\n      <td>199</td>\n      <td>1,616,450</td>\n      <td>237</td>\n    </tr>\n    <tr>\n      <th>15</th>\n      <td>Namakkal</td>\n      <td>203</td>\n      <td>1</td>\n      <td>96</td>\n      <td>106</td>\n      <td>1,726,601</td>\n      <td>118</td>\n    </tr>\n    <tr>\n      <th>16</th>\n      <td>Nilgiris</td>\n      <td>258</td>\n      <td>1</td>\n      <td>107</td>\n      <td>150</td>\n      <td>735,394</td>\n      <td>351</td>\n    </tr>\n    <tr>\n      <th>17</th>\n      <td>Perambalur</td>\n      <td>178</td>\n      <td>1</td>\n      <td>161</td>\n      <td>16</td>\n      <td>565,223</td>\n      <td>315</td>\n    </tr>\n    <tr>\n      <th>18</th>\n      <td>Pudukkottai</td>\n      <td>729</td>\n      <td>9</td>\n      <td>414</td>\n      <td>306</td>\n      <td>1,618,345</td>\n      <td>450</td>\n    </tr>\n    <tr>\n      <th>19</th>\n      <td>Ramanathapuram</td>\n      <td>1,956</td>\n      <td>38</td>\n      <td>1,193</td>\n      <td>725</td>\n      <td>1,353,445</td>\n      <td>1,445</td>\n    </tr>\n    <tr>\n      <th>20</th>\n      <td>Ranipet</td>\n      <td>1,645</td>\n      <td>13</td>\n      <td>796</td>\n      <td>836</td>\n      <td>1,210,277</td>\n      <td>1,359</td>\n    </tr>\n    <tr>\n      <th>21</th>\n      <td>Salem</td>\n      <td>2,026</td>\n      <td>9</td>\n      <td>1,024</td>\n      <td>993</td>\n      <td>3,482,056</td>\n      <td>582</td>\n    </tr>\n    <tr>\n      <th>22</th>\n      <td>Sivagangai</td>\n      <td>1,003</td>\n      <td>18</td>\n      <td>551</td>\n      <td>434</td>\n      <td>1,339,101</td>\n      <td>749</td>\n    </tr>\n    <tr>\n      <th>23</th>\n      <td>Tenkasi</td>\n      <td>824</td>\n      <td>3</td>\n      <td>325</td>\n      <td>496</td>\n      <td>1,407,627</td>\n      <td>585</td>\n    </tr>\n    <tr>\n      <th>24</th>\n      <td>Thanjavur</td>\n      <td>738</td>\n      <td>11</td>\n      <td>422</td>\n      <td>1,212</td>\n      <td>2,405,890</td>\n      <td>307</td>\n    </tr>\n    <tr>\n      <th>25</th>\n      <td>Theni</td>\n      <td>1,916</td>\n      <td>20</td>\n      <td>684</td>\n      <td>1,212</td>\n      <td>1,245,899</td>\n      <td>1,538</td>\n    </tr>\n    <tr>\n      <th>26</th>\n      <td>Tirunelveli</td>\n      <td>1,935</td>\n      <td>11</td>\n      <td>935</td>\n      <td>989</td>\n      <td>1,665,253</td>\n      <td>1,162</td>\n    </tr>\n    <tr>\n      <th>27</th>\n      <td>Tirupattur</td>\n      <td>461</td>\n      <td>1</td>\n      <td>272</td>\n      <td>188</td>\n      <td>1,111,812</td>\n      <td>415</td>\n    </tr>\n    <tr>\n      <th>28</th>\n      <td>Tiruppur</td>\n      <td>319</td>\n      <td>4</td>\n      <td>185</td>\n      <td>130</td>\n      <td>2,479,052</td>\n      <td>129</td>\n    </tr>\n    <tr>\n      <th>29</th>\n      <td>Tiruvallur</td>\n      <td>7,292</td>\n      <td>133</td>\n      <td>4,014</td>\n      <td>3,145</td>\n      <td>3,728,104</td>\n      <td>1,956</td>\n    </tr>\n    <tr>\n      <th>30</th>\n      <td>Tiruvannamalai</td>\n      <td>3,224</td>\n      <td>24</td>\n      <td>1,848</td>\n      <td>1,352</td>\n      <td>2,494,875</td>\n      <td>1,292</td>\n    </tr>\n    <tr>\n      <th>31</th>\n      <td>Tiruvarur</td>\n      <td>786</td>\n      <td>1</td>\n      <td>478</td>\n      <td>307</td>\n      <td>1,264,277</td>\n      <td>622</td>\n    </tr>\n    <tr>\n      <th>32</th>\n      <td>Tiruchirappalli</td>\n      <td>1,715</td>\n      <td>27</td>\n      <td>964</td>\n      <td>724</td>\n      <td>2,722,290</td>\n      <td>630</td>\n    </tr>\n    <tr>\n      <th>33</th>\n      <td>Thoothukudi</td>\n      <td>2,497</td>\n      <td>17</td>\n      <td>1,121</td>\n      <td>1,359</td>\n      <td>1,750,176</td>\n      <td>1,427</td>\n    </tr>\n    <tr>\n      <th>34</th>\n      <td>Vellore</td>\n      <td>3,098</td>\n      <td>10</td>\n      <td>1,344</td>\n      <td>1,744</td>\n      <td>1,614,242</td>\n      <td>1,919</td>\n    </tr>\n    <tr>\n      <th>35</th>\n      <td>Villuppuram</td>\n      <td>1,723</td>\n      <td>20</td>\n      <td>1,034</td>\n      <td>669</td>\n      <td>2,093,003</td>\n      <td>823</td>\n    </tr>\n  </tbody>\n</table>\n</div>"
     },
     "metadata": {},
     "execution_count": 5
    }
   ],
   "source": [
    "data\n"
   ]
  },
  {
   "cell_type": "code",
   "execution_count": null,
   "metadata": {},
   "outputs": [],
   "source": []
  },
  {
   "cell_type": "code",
   "execution_count": null,
   "metadata": {},
   "outputs": [],
   "source": []
  }
 ]
}